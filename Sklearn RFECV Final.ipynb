{
 "cells": [
  {
   "cell_type": "code",
   "execution_count": 3,
   "id": "e71fa3e6",
   "metadata": {},
   "outputs": [
    {
     "name": "stdout",
     "output_type": "stream",
     "text": [
      "1687860623.4973943\n"
     ]
    }
   ],
   "source": [
    "\n",
    "from sklearn.feature_selection import RFE\n",
    "from sklearn.svm import SVR\n",
    "import matplotlib.pyplot as plt\n",
    "import pandas as pd\n",
    "import time\n",
    "import numpy as np\n",
    "from sklearn.cluster import KMeans\n",
    "from sklearn.svm import SVR\n",
    "from sklearn.model_selection import train_test_split\n",
    "from sklearn.feature_selection import RFECV\n",
    "from sklearn.tree import DecisionTreeClassifier\n",
    "start_time = time.time()\n",
    "print(start_time)"
   ]
  },
  {
   "cell_type": "code",
   "execution_count": 4,
   "id": "5e81fe38",
   "metadata": {},
   "outputs": [],
   "source": [
    "#Set labels\n",
    "labels = [\"Labeled_miRNA.csv\", \"Labeled_methyl.csv\",\"Labeled_gene.csv\",]"
   ]
  },
  {
   "cell_type": "code",
   "execution_count": 5,
   "id": "546736df",
   "metadata": {},
   "outputs": [],
   "source": [
    "#Feature selection method for RFECV\n",
    "\n",
    "def feature_selection(datasetName, rs):\n",
    "    #Get starting time\n",
    "    start_time = time.time()\n",
    "    \n",
    "    #Set inputpath\n",
    "    inputPath = \"C:/Users/matth/anaconda3/envs/data1/data1/brca/Labeled_data/\"\n",
    "    dataset = inputPath + datasetName\n",
    "    \n",
    "    #Read in data as dataframe\n",
    "    data = pd.read_csv(dataset)\n",
    "    data = pd.DataFrame(data)\n",
    "    \n",
    "    #Conversion between R and Python with reticulate package causes some weird interactions. \n",
    "    #To fix these interactions, the datasets have to be loaded in this way\n",
    "    data.columns = data.iloc[0]\n",
    "    data = data[1:]\n",
    "    data = data.apply(pd.to_numeric, errors='ignore')\n",
    "    \n",
    "    #Set Ground labels and features\n",
    "    Y = data['class']\n",
    "    X = data.drop(['class'], axis=1)\n",
    "    \n",
    "    #Train and fit the model\n",
    "    XTrain, XTest, YTrain, YTest = train_test_split(X, Y, test_size=0.2, random_state = rs)\n",
    "    model = DecisionTreeClassifier()\n",
    "    rfecv = RFECV(estimator=model, step=1, cv=5, scoring=\"accuracy\", n_jobs = -1)\n",
    "    rfecv = rfecv.fit(XTrain, YTrain)\n",
    "    \n",
    "    #Get the selected features\n",
    "    i = 0\n",
    "    features = []\n",
    "    for feature in rfecv.support_:\n",
    "        if feature == False:\n",
    "            features.append(rfecv.feature_names_in_[i])\n",
    "        i += 1\n",
    "        \n",
    "    #Augment data with desired features\n",
    "    dropped_data = data.drop(features, axis=1)\n",
    "    dropped_data = dropped_data.drop(['class'], axis=1)\n",
    "    \n",
    "    #Write CSV for later use\n",
    "    outputPath = \"C:/Users/matth/anaconda3/envs/data1/data1/brca/fs_brca/BRCA_FS_RFW_\" + datasetName[:-4] + \"_\" + str(rs) + \".csv\"\n",
    "    dropped_data.to_csv(outputPath)\n",
    "    end_time = time.time() - start_time\n",
    "    print(\"It took {0:2f} secondes for {1} with random state {2} to complete\".format(end_time, datasetName, rs))\n",
    "    "
   ]
  },
  {
   "cell_type": "code",
   "execution_count": 7,
   "id": "80b79ceb",
   "metadata": {},
   "outputs": [],
   "source": [
    "#Run RFECV for datasets\n",
    "for i in range(1, 2):\n",
    "    for label in labels:\n",
    "        feature_selection(label, i)\n",
    "        \n"
   ]
  }
 ],
 "metadata": {
  "kernelspec": {
   "display_name": "Python 3 (ipykernel)",
   "language": "python",
   "name": "python3"
  },
  "language_info": {
   "codemirror_mode": {
    "name": "ipython",
    "version": 3
   },
   "file_extension": ".py",
   "mimetype": "text/x-python",
   "name": "python",
   "nbconvert_exporter": "python",
   "pygments_lexer": "ipython3",
   "version": "3.10.9"
  }
 },
 "nbformat": 4,
 "nbformat_minor": 5
}
